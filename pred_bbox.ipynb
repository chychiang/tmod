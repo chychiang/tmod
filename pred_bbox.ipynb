{
 "cells": [
  {
   "cell_type": "code",
   "execution_count": 1,
   "metadata": {},
   "outputs": [
    {
     "name": "stdout",
     "output_type": "stream",
     "text": [
      " 100% |█████████████████| 360/360 [297.8ms elapsed, 0s remaining, 1.2K samples/s]  \n",
      " 100% |█████████████████| 101/101 [95.7ms elapsed, 0s remaining, 1.1K samples/s]   \n",
      " 100% |███████████████████| 51/51 [58.3ms elapsed, 0s remaining, 875.0 samples/s]  \n"
     ]
    }
   ],
   "source": [
    "from pathlib import Path\n",
    "\n",
    "import torch\n",
    "import fiftyone as fo\n",
    "\n",
    "from src.data.torch_dataset import make_tmod_dataloader\n",
    "from src.data.fo_dataset import load_all_splits_as_one\n",
    "\n",
    "dataset_root = Path(\"data\")\n",
    "dataset = load_all_splits_as_one(dataset_root, ['train', 'valid', 'test'])\n",
    "\n",
    "image_paths, sample_ids = zip(*[(s.filepath, s.id) for s in dataset])"
   ]
  },
  {
   "cell_type": "code",
   "execution_count": 2,
   "metadata": {},
   "outputs": [],
   "source": [
    "dataloader = make_tmod_dataloader(image_paths, sample_ids, batch_size=32, num_workers=4)"
   ]
  },
  {
   "cell_type": "code",
   "execution_count": 3,
   "metadata": {},
   "outputs": [
    {
     "name": "stdout",
     "output_type": "stream",
     "text": [
      "Building model\n"
     ]
    }
   ],
   "source": [
    "print(\"Building model\")\n",
    "model = torch.nn.Sequential(\n",
    "    torch.nn.Conv2d(3, 32, 5), # 636 \n",
    "    torch.nn.ReLU(),\n",
    "    torch.nn.MaxPool2d(2), # 318\n",
    "    torch.nn.Conv2d(32, 64, 3), # 316\n",
    "    torch.nn.ReLU(),\n",
    "    torch.nn.MaxPool2d(2), # 158\n",
    "    torch.nn.Flatten(), \n",
    "    torch.nn.Linear(64 * 158 * 158, 128),\n",
    "    torch.nn.ReLU(),\n",
    "    torch.nn.Linear(128, 4)\n",
    ")\n",
    "\n",
    "model.to('mps')\n",
    "loss_fn = torch.nn.L1Loss(reduction='none')\n",
    "optim = torch.optim.Adam(model.parameters(), lr=1e-3)\n",
    "\n",
    "def full_iteration(dataloader, dataset, model, loss_fn, optim):\n",
    "    for imgs, img_ids in pb(dataloader):\n",
    "        # get bounding box labels\n",
    "        bounding_boxes_gt = dataset[img_ids].values('detections.detections.bounding_box')\n",
    "        null_bboxes = []\n",
    "        for i, bb in enumerate(bounding_boxes_gt):\n",
    "            if bb is None:\n",
    "                null_bboxes.append(i)\n",
    "                bounding_boxes_gt[i] = [[-1, -1, -1, -1]]\n",
    "        bounding_boxes_gt = torch.tensor(bounding_boxes_gt).squeeze(1)\n",
    "\n",
    "        # move to GPU\n",
    "        imgs = imgs.to('mps')\n",
    "        bounding_boxes_gt = bounding_boxes_gt.to('mps')\n",
    "\n",
    "        # training\n",
    "        optim.zero_grad()\n",
    "        bbox_preds = model(imgs)\n",
    "        loss = loss_fn(bbox_preds, bounding_boxes_gt)\n",
    "        loss = loss.mean(dim=1)\n",
    "        # mask out samples with no bounding box\n",
    "        for i in null_bboxes:\n",
    "            loss[i] = 0\n",
    "        loss = loss.mean()\n",
    "        loss.backward()\n",
    "        optim.step()\n",
    "        print(loss.item())\n",
    "        return loss.item()"
   ]
  },
  {
   "cell_type": "code",
   "execution_count": 5,
   "metadata": {},
   "outputs": [
    {
     "name": "stdout",
     "output_type": "stream",
     "text": [
      "Starting training\n",
      "Epoch 0\n",
      "   0% ||------------------|  0/16 [5.4s elapsed, ? remaining, ? samples/s] "
     ]
    }
   ],
   "source": [
    "print(\"Starting training\")\n",
    "with fo.ProgressBar() as pb:\n",
    "    for epoch in range(10):\n",
    "        print(f\"Epoch {epoch}\")\n",
    "        full_iteration(dataloader, dataset, model, loss_fn, optim)"
   ]
  },
  {
   "cell_type": "code",
   "execution_count": null,
   "metadata": {},
   "outputs": [
    {
     "data": {
      "text/plain": [
       "tensor([0.0000, 0.3980], device='mps:0', grad_fn=<CopySlices>)"
      ]
     },
     "execution_count": 141,
     "metadata": {},
     "output_type": "execute_result"
    }
   ],
   "source": [
    "loss"
   ]
  },
  {
   "cell_type": "code",
   "execution_count": null,
   "metadata": {},
   "outputs": [
    {
     "name": "stderr",
     "output_type": "stream",
     "text": [
      "/var/folders/tw/d3n50ht96639mft79jx2cxn40000gn/T/ipykernel_93427/64182145.py:5: UserWarning: To copy construct from a tensor, it is recommended to use sourceTensor.clone().detach() or sourceTensor.clone().detach().requires_grad_(True), rather than torch.tensor(sourceTensor).\n",
      "  bounding_boxes_gt = torch.tensor(bounding_boxes_gt).squeeze(1)\n"
     ]
    },
    {
     "name": "stdout",
     "output_type": "stream",
     "text": [
      "torch.Size([2, 3, 640, 640])\n",
      "tensor([[1.0318, 1.0833, 0.9429, 0.9933],\n",
      "        [0.8398, 0.1728, 0.1817, 0.4675]], device='mps:0',\n",
      "       grad_fn=<AbsBackward0>)\n",
      "tensor([[-1.0000, -1.0000, -1.0000, -1.0000],\n",
      "        [ 0.9094,  0.2219,  0.0906,  0.5188]], device='mps:0')\n"
     ]
    },
    {
     "ename": "RuntimeError",
     "evalue": "The size of tensor a (4) must match the size of tensor b (2) at non-singleton dimension 1",
     "output_type": "error",
     "traceback": [
      "\u001b[0;31m---------------------------------------------------------------------------\u001b[0m",
      "\u001b[0;31mRuntimeError\u001b[0m                              Traceback (most recent call last)",
      "Cell \u001b[0;32mIn[134], line 18\u001b[0m\n\u001b[1;32m     16\u001b[0m \u001b[38;5;28mprint\u001b[39m(loss)\n\u001b[1;32m     17\u001b[0m \u001b[38;5;28mprint\u001b[39m(bounding_boxes_gt)\n\u001b[0;32m---> 18\u001b[0m loss \u001b[38;5;241m=\u001b[39m (\u001b[43mloss\u001b[49m\u001b[43m \u001b[49m\u001b[38;5;241;43m*\u001b[39;49m\u001b[43m \u001b[49m\u001b[43mmask\u001b[49m)\n\u001b[1;32m     19\u001b[0m \u001b[38;5;28mprint\u001b[39m(\u001b[38;5;124mf\u001b[39m\u001b[38;5;124m'\u001b[39m\u001b[38;5;124mloss after masking\u001b[39m\u001b[38;5;124m'\u001b[39m)\n\u001b[1;32m     20\u001b[0m \u001b[38;5;28mprint\u001b[39m(loss)\n",
      "\u001b[0;31mRuntimeError\u001b[0m: The size of tensor a (4) must match the size of tensor b (2) at non-singleton dimension 1"
     ]
    }
   ],
   "source": [
    "mask = torch.Tensor([1 if bb != None else 0 for bb in bounding_boxes_gt])\n",
    "for i, bb in enumerate(bounding_boxes_gt):\n",
    "    if bb is None:\n",
    "        bounding_boxes_gt[i] = [[-1, -1, -1, -1]]\n",
    "bounding_boxes_gt = torch.tensor(bounding_boxes_gt).squeeze(1)\n",
    "\n",
    "# move to GPU\n",
    "imgs = imgs.to('mps')\n",
    "bounding_boxes_gt = bounding_boxes_gt.to('mps')\n",
    "\n",
    "# training\n",
    "optim.zero_grad()\n",
    "print(imgs.shape)\n",
    "bbox_preds = model(imgs)\n",
    "loss = loss_fn(bbox_preds, bounding_boxes_gt)\n",
    "print(loss)\n",
    "print(bounding_boxes_gt)\n",
    "loss = (loss * mask)\n",
    "print(f'loss after masking')\n",
    "print(loss)"
   ]
  },
  {
   "cell_type": "code",
   "execution_count": null,
   "metadata": {},
   "outputs": [
    {
     "data": {
      "text/plain": [
       "[False, False]"
      ]
     },
     "execution_count": 131,
     "metadata": {},
     "output_type": "execute_result"
    }
   ],
   "source": [
    "mask"
   ]
  },
  {
   "cell_type": "code",
   "execution_count": null,
   "metadata": {},
   "outputs": [],
   "source": []
  }
 ],
 "metadata": {
  "kernelspec": {
   "display_name": "sys-and-tool-chains-for-ai",
   "language": "python",
   "name": "python3"
  },
  "language_info": {
   "codemirror_mode": {
    "name": "ipython",
    "version": 3
   },
   "file_extension": ".py",
   "mimetype": "text/x-python",
   "name": "python",
   "nbconvert_exporter": "python",
   "pygments_lexer": "ipython3",
   "version": "3.11.5"
  }
 },
 "nbformat": 4,
 "nbformat_minor": 2
}
